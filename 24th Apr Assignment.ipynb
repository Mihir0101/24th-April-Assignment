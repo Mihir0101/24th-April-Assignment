{
 "cells": [
  {
   "cell_type": "markdown",
   "id": "ab68e6aa-1002-4a98-8097-7e8c53fc55a8",
   "metadata": {},
   "source": [
    "# 24th April Assignment"
   ]
  },
  {
   "cell_type": "code",
   "execution_count": null,
   "id": "7474c0dd-18f9-408d-9908-cfd5e0defab9",
   "metadata": {},
   "outputs": [],
   "source": []
  },
  {
   "cell_type": "markdown",
   "id": "47297cb9-5ed4-4e04-bb05-a4f9b89847ff",
   "metadata": {},
   "source": [
    "## Q1. What is a projection and how is it used in PCA?"
   ]
  },
  {
   "cell_type": "markdown",
   "id": "e08452b7-799c-410a-8dc7-efea33665c68",
   "metadata": {},
   "source": [
    "In PCA we have to project the datapoints on the Principal component.\n",
    "\n",
    "We have to use this formula for projection : Proj P1 = P1 . U,where P1 is datapoint and U is a unit vector.\n",
    "\n",
    "After projection we have to find distance of that projected point from origin.\n",
    "\n",
    "Distance we got will become the value of that datapoint and we will use that value for build our model."
   ]
  },
  {
   "cell_type": "code",
   "execution_count": null,
   "id": "bfddfdf0-7063-4939-847b-8f37607cd57a",
   "metadata": {},
   "outputs": [],
   "source": []
  },
  {
   "cell_type": "markdown",
   "id": "547dd018-3f4e-4c4e-b140-b16982517dd3",
   "metadata": {},
   "source": [
    "## Q2. How does the optimization problem in PCA work, and what is it trying to achieve?"
   ]
  },
  {
   "cell_type": "markdown",
   "id": "18888c00-c978-4e1b-a523-b1f5d0a361ac",
   "metadata": {},
   "source": [
    "Op"
   ]
  },
  {
   "cell_type": "code",
   "execution_count": null,
   "id": "9c0e1f61-f877-4e6e-a9f9-9dc9c45f315d",
   "metadata": {},
   "outputs": [],
   "source": []
  },
  {
   "cell_type": "markdown",
   "id": "14ed001c-74aa-4d36-a05c-ac674cda4740",
   "metadata": {},
   "source": [
    "##  Q3. What is the relationship between covariance matrices and PCA?"
   ]
  },
  {
   "cell_type": "markdown",
   "id": "ca3bb19a-7c8e-4228-b50a-dfdf46ede882",
   "metadata": {},
   "source": [
    "In PCA we have to create Eigen vectors, and have to choose best eigen vectors among all.\n",
    "\n",
    "Covariance matrics plays crucial role in creating eigen vector.\n",
    "\n",
    "At the starting of the process we just have a unit vector but for find the eigen vector we have to apply linear transformation on that unit vector.\n",
    "\n",
    "Linear Transformation : Unit Vector . Covariance Matrics\n",
    "\n",
    "After applying the linear transformation we will get as many eigen vectors as features we have.\n",
    "\n",
    "So, This is the role of covariance matrics in PCA."
   ]
  },
  {
   "cell_type": "code",
   "execution_count": null,
   "id": "ac799255-672e-44ab-81a7-3a91d4db1a9a",
   "metadata": {},
   "outputs": [],
   "source": []
  },
  {
   "cell_type": "markdown",
   "id": "70e4d626-b16c-412f-aa94-ebb495122007",
   "metadata": {},
   "source": [
    "## Q4. How does the choice of number of principal components impact the performance of PCA?"
   ]
  },
  {
   "cell_type": "markdown",
   "id": "32557bbf-3b1c-4d8a-a621-b5b024df9d3c",
   "metadata": {},
   "source": [
    "Choosing the larger number of principle component is very good for get highest variance.But that becomes problem of high dimensional features. \n",
    "\n",
    "If we choose smaller number so it becomes easy to compute but we have to sacrifice the information.\n",
    "\n",
    "Carefully selecting the number of component help to prevent overfitting.\n",
    "\n",
    "We can easily visualize the higher dimensions with the help of PCA."
   ]
  },
  {
   "cell_type": "code",
   "execution_count": null,
   "id": "0224f23b-9ccc-4358-aac4-cbe45821dc3e",
   "metadata": {},
   "outputs": [],
   "source": []
  },
  {
   "cell_type": "markdown",
   "id": "4e8de30f-8cb7-4301-9411-0127e0a0275e",
   "metadata": {},
   "source": [
    "## Q5. How can PCA be used in feature selection, and what are the benefits of using it for this purpose?"
   ]
  },
  {
   "cell_type": "markdown",
   "id": "9493cb72-992a-4c51-b209-0108f9955b3d",
   "metadata": {},
   "source": [
    "In PCA we have to create principle components and have to project the datapoints on it.\n",
    "\n",
    "We choose that principle component which contains highest variance because of it we can fetch all data.\n",
    "\n",
    "After that we will set any threshold value for choose the best principle components.\n",
    "\n",
    "This is how we can reduce the dimensions and also get a larger information."
   ]
  },
  {
   "cell_type": "code",
   "execution_count": null,
   "id": "9b237d7d-6f54-4331-946c-abd51fb9f5e3",
   "metadata": {},
   "outputs": [],
   "source": []
  },
  {
   "cell_type": "markdown",
   "id": "bb9379db-3cd3-4282-a2da-88b5050afb15",
   "metadata": {},
   "source": [
    "## Q6. What are some common applications of PCA in data science and machine learning?"
   ]
  },
  {
   "cell_type": "markdown",
   "id": "c47335cf-c19f-44b6-b1e1-7206b11bcd4b",
   "metadata": {},
   "source": [
    "Dimensionality Reduction\n",
    "\n",
    "Feature Extraction\n",
    "\n",
    "Noise Reduction \n",
    "\n",
    "Visualization\n",
    "\n",
    "Multicollinearity Handling"
   ]
  },
  {
   "cell_type": "code",
   "execution_count": null,
   "id": "b2de1a8f-fd6d-4d9f-ace0-5623bf8697ed",
   "metadata": {},
   "outputs": [],
   "source": []
  },
  {
   "cell_type": "markdown",
   "id": "29576615-f22f-4a69-9c0e-098ddda0c4e5",
   "metadata": {},
   "source": [
    "## Q7.What is the relationship between spread and variance in PCA?"
   ]
  },
  {
   "cell_type": "markdown",
   "id": "b2d99d22-7e6d-49f6-b868-86a2ad3fde14",
   "metadata": {},
   "source": [
    "In the context of Principal Component Analysis (PCA), the terms \"spread\" and \"variance\" are related concepts that are often used interchangeably. Both terms refer to the measure of the extent or dispersion of data points in a dataset. \n",
    "\n",
    "Spread of data points along with principal component correspondes the varaince captured by component.\n",
    "\n",
    "Data points along with principal component directly related to eigen values."
   ]
  },
  {
   "cell_type": "code",
   "execution_count": null,
   "id": "e73e98e7-63ed-49b3-9e06-779a76afa616",
   "metadata": {},
   "outputs": [],
   "source": []
  },
  {
   "cell_type": "markdown",
   "id": "b916b9ce-9dd1-4494-9141-3bb4bea450d8",
   "metadata": {},
   "source": [
    "## Q8. How does PCA use the spread and variance of the data to identify principal components?"
   ]
  },
  {
   "cell_type": "markdown",
   "id": "3ef13aa6-117e-4987-88e5-3382ba0b4c98",
   "metadata": {},
   "source": [
    "The first principal component captures the direction in which the data has the maximum spread\n",
    "\n",
    "\n",
    "Principal components are orthogonal to each other, meaning they are uncorrelated. \n",
    "\n",
    "The eigenvalues associated with each principal component quantify the amount of variance retained by that component.\n",
    "PCA allows for the control of the amount of variance retained, providing a balance between dimensionality reduction and information preservation."
   ]
  },
  {
   "cell_type": "code",
   "execution_count": null,
   "id": "2e919dcb-73a2-4c5f-bde5-60928754cebf",
   "metadata": {},
   "outputs": [],
   "source": []
  },
  {
   "cell_type": "markdown",
   "id": "c8210e58-f92f-4fa0-b320-f3a95eeab245",
   "metadata": {},
   "source": [
    "## Q9. How does PCA handle data with high variance in some dimensions but low variance in others?"
   ]
  },
  {
   "cell_type": "markdown",
   "id": "451b6990-9f44-41ce-91ea-c256da172a23",
   "metadata": {},
   "source": [
    "In PCA some some components contains high variance and some low.\n",
    "\n",
    "First component captures the highest variance,second coponent captures second highest and so on.\n",
    "\n",
    "PCA choose that components which contains high variance.\n",
    "\n",
    "By doing this it reduces the dimension and also captures the most of the information and relationship."
   ]
  },
  {
   "cell_type": "code",
   "execution_count": null,
   "id": "525bb100-0726-4438-b05d-cdeeb984a20b",
   "metadata": {},
   "outputs": [],
   "source": []
  }
 ],
 "metadata": {
  "kernelspec": {
   "display_name": "Python 3 (ipykernel)",
   "language": "python",
   "name": "python3"
  },
  "language_info": {
   "codemirror_mode": {
    "name": "ipython",
    "version": 3
   },
   "file_extension": ".py",
   "mimetype": "text/x-python",
   "name": "python",
   "nbconvert_exporter": "python",
   "pygments_lexer": "ipython3",
   "version": "3.10.8"
  }
 },
 "nbformat": 4,
 "nbformat_minor": 5
}
